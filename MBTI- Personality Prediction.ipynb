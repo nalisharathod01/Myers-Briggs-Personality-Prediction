{
 "cells": [
  {
   "cell_type": "code",
   "execution_count": 2,
   "metadata": {},
   "outputs": [],
   "source": [
    "# Data Loading"
   ]
  },
  {
   "cell_type": "code",
   "execution_count": 154,
   "metadata": {},
   "outputs": [
    {
     "name": "stderr",
     "output_type": "stream",
     "text": [
      "[nltk_data] Downloading package punkt to /Users/nalisha/nltk_data...\n",
      "[nltk_data]   Package punkt is already up-to-date!\n",
      "[nltk_data] Downloading package stopwords to\n",
      "[nltk_data]     /Users/nalisha/nltk_data...\n",
      "[nltk_data]   Package stopwords is already up-to-date!\n"
     ]
    }
   ],
   "source": [
    "import pandas as pd\n",
    "import matplotlib.pyplot as plt\n",
    "import re      #For Data Cleaning\n",
    "import nltk\n",
    "nltk.download('punkt')\n",
    "nltk.download('stopwords')\n",
    "from tqdm import tqdm  \n",
    "import nltk   # For preprocessing\n",
    "from nltk.tokenize import word_tokenize\n",
    "from nltk.corpus import stopwords \n",
    "from nltk.stem.porter import PorterStemmer"
   ]
  },
  {
   "cell_type": "code",
   "execution_count": 155,
   "metadata": {},
   "outputs": [],
   "source": [
    "data = pd.read_csv(\"mbti_1.csv\")"
   ]
  },
  {
   "cell_type": "code",
   "execution_count": 156,
   "metadata": {},
   "outputs": [
    {
     "name": "stdout",
     "output_type": "stream",
     "text": [
      "Personality types ['INFP' 'INFJ' 'INTP' 'INTJ' 'ENTP' 'ENFP' 'ISTP' 'ISFP' 'ENTJ' 'ISTJ'\n",
      " 'ENFJ' 'ISFJ' 'ESTP' 'ESFP' 'ESFJ' 'ESTJ']\n"
     ]
    }
   ],
   "source": [
    "#creating a bar plot of the uncleaned Data\n",
    "typeGrouping = data.groupby(\"type\").count()\n",
    "typeGrouping.sort_values(\"posts\", ascending=False, inplace=True)\n",
    "print (\"Personality types\", typeGrouping.index.values)\n",
    "\n",
    "#Priors used below for Random Guessing Estimation\n",
    "priors = typeGrouping[\"posts\"] / typeGrouping[\"posts\"].sum()"
   ]
  },
  {
   "cell_type": "code",
   "execution_count": 157,
   "metadata": {},
   "outputs": [
    {
     "data": {
      "image/png": "[encoded data removed]",
      "text/plain": [
       "<Figure size 576x432 with 1 Axes>"
      ]
     },
     "metadata": {
      "needs_background": "light"
     },
     "output_type": "display_data"
    }
   ],
   "source": [
    "typeGrouping[\"posts\"].plot(kind=\"bar\", title=\"Personality type with number of Users\");"
   ]
  },
  {
   "cell_type": "code",
   "execution_count": 158,
   "metadata": {},
   "outputs": [],
   "source": [
    "#Data PreProcessing\n",
    "# Function To replace \"|||\" from text with \" \" Join all texts written by 1 Person \n",
    "def replaceSeparator(text):\n",
    "    \"\"\"Remove '|||' which is used as seprator \"\"\"\n",
    "    text = text.replace(\"|||\",\" \")\n",
    "    return text\n",
    "\n",
    "# Function To remove Links from text and replace them with 'Link' \n",
    "def removeLink(text):\n",
    "    \"\"\"Replace Links from text to 'Link' \"\"\"\n",
    "    text = re.sub(r\"http\\S+\", \"Link\", text, flags=re.MULTILINE)\n",
    "    return text\n",
    "\n",
    "# Function To Remove punctuation from Text \n",
    "def removePunctuation(words):\n",
    "    \"\"\"Remove punctuation from list of tokenized words\"\"\"\n",
    "    new_words = []\n",
    "    for word in words:\n",
    "        new_word = re.sub(r'[^\\w\\s]', '', word)\n",
    "        if new_word != '':\n",
    "            new_words.append(new_word)\n",
    "    return new_words\n",
    "    "
   ]
  },
  {
   "cell_type": "code",
   "execution_count": 159,
   "metadata": {},
   "outputs": [
    {
     "data": {
      "text/plain": [
       "\"'http://www.youtube.com/watch?v=qsXHcwe3krw http://41.media.tumblr.com/tumblr_lfouy03PMA1qa1rooo1_500.jpg enfp and intj moments  https://www.youtube.com/watch?v=iz7lE1g4XM4  sportscenter not top ten plays  https://www.youtube.com/watch?v=uCdfze1etec  pranks What has been the most life-changing experience in your life? http://www.youtube.com/watch?v=vXZeYwwRDw8   http://www.youtube.com/watch?v=u8ejam5DP3E  On repeat for most of today. May the PerC Experience immerse you. The last thing my INFJ friend posted on his facebook before committing suicide the next day. Rest in peace~   http://vimeo.com/22842206 Hello ENFJ7. Sorry to hear of your distress. It's only natural for a relationship to not be perfection all the time in every moment of existence. Try to figure the hard times as times of growth, as... 84389  84390  http://wallpaperpassion.com/upload/23700/friendship-boy-and-girl-wallpaper.jpg  http://assets.dornob.com/wp-content/uploads/2010/04/round-home-design.jpg ... Welcome and stuff. http://playeressence.com/wp-content/uploads/2013/08/RED-red-the-pokemon-master-32560474-450-338.jpg  Game. Set. Match. Prozac, wellbrutin, at least thirty minutes of moving your legs (and I don't mean moving them while sitting in your same desk chair), weed in moderation (maybe try edibles as a healthier alternative... Basically come up with three items you've determined that each type (or whichever types you want to do) would more than likely use, given each types' cognitive functions and whatnot, when left by... All things in moderation.  Sims is indeed a video game, and a good one at that. Note: a good one at that is somewhat subjective in that I am not completely promoting the death of any given Sim... Dear ENFP:  What were your favorite video games growing up and what are your now, current favorite video games? :cool: https://www.youtube.com/watch?v=QyPqT8umzmY It appears to be too late. :sad: There's someone out there for everyone. Wait... I thought confidence was a good thing. I just cherish the time of solitude b/c i revel within my inner world more whereas most other time i'd be workin... just enjoy the me time while you can. Don't worry, people will always be around to... Yo entp ladies... if you're into a complimentary personality,well, hey. ... when your main social outlet is xbox live conversations and even then you verbally fatigue quickly. http://www.youtube.com/watch?v=gDhy7rdfm14  I really dig the part from 1:46 to 2:50 http://www.youtube.com/watch?v=msqXffgh7b8 Banned because this thread requires it of me. Get high in backyard, roast and eat marshmellows in backyard while conversing over something intellectual, followed by massages and kisses. http://www.youtube.com/watch?v=Mw7eoU3BMbE http://www.youtube.com/watch?v=4V2uYORhQOk http://www.youtube.com/watch?v=SlVmgFQQ0TI Banned for too many b's in that sentence. How could you! Think of the B! Banned for watching movies in the corner with the dunces. Banned because Health class clearly taught you nothing about peer pressure. Banned for a whole host of reasons! http://www.youtube.com/watch?v=IRcrv41hgz4 1) Two baby deer on left and right munching on a beetle in the middle.  2) Using their own blood, two cavemen diary today's latest happenings on their designated cave diary wall.  3) I see it as... a pokemon world  an infj society  everyone becomes an optimist 49142 http://www.youtube.com/watch?v=ZRCEq_JFeFM http://discovermagazine.com/2012/jul-aug/20-things-you-didnt-know-about-deserts/desert.jpg http://oyster.ignimgs.com/mediawiki/apis.ign.com/pokemon-silver-version/d/dd/Ditto.gif http://www.serebii.net/potw-dp/Scizor.jpg Not all artists are artists because they draw. It's the idea that counts in forming something of your own... like a signature. Welcome to the robot ranks, person who downed my self-esteem cuz I'm not an avid signature artist like herself. :proud: Banned for taking all the room under my bed. Ya gotta learn to share with the roaches. http://www.youtube.com/watch?v=w8IgImn57aQ Banned for being too much of a thundering, grumbling kind of storm... yep. Ahh... old high school music I haven't heard in ages.   http://www.youtube.com/watch?v=dcCRUPCdB1w I failed a public speaking class a few years ago and I've sort of learned what I could do better were I to be in that position again. A big part of my failure was just overloading myself with too... I like this person's mentality. He's a confirmed INTJ by the way. http://www.youtube.com/watch?v=hGKLI-GEc6M Move to the Denver area and start a new life for myself.'\""
      ]
     },
     "execution_count": 159,
     "metadata": {},
     "output_type": "execute_result"
    }
   ],
   "source": [
    "replaceSeparator(data.iloc[0][1])"
   ]
  },
  {
   "cell_type": "code",
   "execution_count": 160,
   "metadata": {},
   "outputs": [
    {
     "data": {
      "text/plain": [
       "\"'Link and intj moments  Link  sportscenter not top ten plays  Link  pranks|||What has been the most life-changing experience in your life?|||Link   Link  On repeat for most of today.|||May the PerC Experience immerse you.|||The last thing my INFJ friend posted on his facebook before committing suicide the next day. Rest in peace~   Link ENFJ7. Sorry to hear of your distress. It's only natural for a relationship to not be perfection all the time in every moment of existence. Try to figure the hard times as times of growth, as...|||84389  84390  Link  Link ...|||Welcome and stuff.|||Link  Game. Set. Match.|||Prozac, wellbrutin, at least thirty minutes of moving your legs (and I don't mean moving them while sitting in your same desk chair), weed in moderation (maybe try edibles as a healthier alternative...|||Basically come up with three items you've determined that each type (or whichever types you want to do) would more than likely use, given each types' cognitive functions and whatnot, when left by...|||All things in moderation.  Sims is indeed a video game, and a good one at that. Note: a good one at that is somewhat subjective in that I am not completely promoting the death of any given Sim...|||Dear ENFP:  What were your favorite video games growing up and what are your now, current favorite video games? :cool:|||Link appears to be too late. :sad:|||There's someone out there for everyone.|||Wait... I thought confidence was a good thing.|||I just cherish the time of solitude b/c i revel within my inner world more whereas most other time i'd be workin... just enjoy the me time while you can. Don't worry, people will always be around to...|||Yo entp ladies... if you're into a complimentary personality,well, hey.|||... when your main social outlet is xbox live conversations and even then you verbally fatigue quickly.|||Link  I really dig the part from 1:46 to 2:50|||Link because this thread requires it of me.|||Get high in backyard, roast and eat marshmellows in backyard while conversing over something intellectual, followed by massages and kisses.|||Link for too many b's in that sentence. How could you! Think of the B!|||Banned for watching movies in the corner with the dunces.|||Banned because Health class clearly taught you nothing about peer pressure.|||Banned for a whole host of reasons!|||Link Two baby deer on left and right munching on a beetle in the middle.  2) Using their own blood, two cavemen diary today's latest happenings on their designated cave diary wall.  3) I see it as...|||a pokemon world  an infj society  everyone becomes an optimist|||49142|||Link all artists are artists because they draw. It's the idea that counts in forming something of your own... like a signature.|||Welcome to the robot ranks, person who downed my self-esteem cuz I'm not an avid signature artist like herself. :proud:|||Banned for taking all the room under my bed. Ya gotta learn to share with the roaches.|||Link for being too much of a thundering, grumbling kind of storm... yep.|||Ahh... old high school music I haven't heard in ages.   Link failed a public speaking class a few years ago and I've sort of learned what I could do better were I to be in that position again. A big part of my failure was just overloading myself with too...|||I like this person's mentality. He's a confirmed INTJ by the way. Link to the Denver area and start a new life for myself.'\""
      ]
     },
     "execution_count": 160,
     "metadata": {},
     "output_type": "execute_result"
    }
   ],
   "source": [
    "removeLink(data.iloc[0][1])"
   ]
  },
  {
   "cell_type": "code",
   "execution_count": 161,
   "metadata": {},
   "outputs": [],
   "source": [
    "def preProcessing(text):\n",
    "    text = replace_sep(text) \n",
    "    text = remove_link(text) \n",
    "    return text"
   ]
  },
  {
   "cell_type": "code",
   "execution_count": 163,
   "metadata": {},
   "outputs": [
    {
     "data": {
      "text/plain": [
       "\"'link link enfp and intj moments  link  sportscenter not top ten plays  link  pranks what has been the most life-changing experience in your life? link   link  on repeat for most of today. may the perc experience immerse you. the last thing my infj friend posted on his facebook before committing suicide the next day. rest in peace~   link hello enfj7. sorry to hear of your distress. it's only natural for a relationship to not be perfection all the time in every moment of existence. try to figure the hard times as times of growth, as... 84389  84390  link  link ... welcome and stuff. link  game. set. match. prozac, wellbrutin, at least thirty minutes of moving your legs (and i don't mean moving them while sitting in your same desk chair), weed in moderation (maybe try edibles as a healthier alternative... basically come up with three items you've determined that each type (or whichever types you want to do) would more than likely use, given each types' cognitive functions and whatnot, when left by... all things in moderation.  sims is indeed a video game, and a good one at that. note: a good one at that is somewhat subjective in that i am not completely promoting the death of any given sim... dear enfp:  what were your favorite video games growing up and what are your now, current favorite video games? :cool: link it appears to be too late. :sad: there's someone out there for everyone. wait... i thought confidence was a good thing. i just cherish the time of solitude b/c i revel within my inner world more whereas most other time i'd be workin... just enjoy the me time while you can. don't worry, people will always be around to... yo entp ladies... if you're into a complimentary personality,well, hey. ... when your main social outlet is xbox live conversations and even then you verbally fatigue quickly. link  i really dig the part from 1:46 to 2:50 link banned because this thread requires it of me. get high in backyard, roast and eat marshmellows in backyard while conversing over something intellectual, followed by massages and kisses. link link link banned for too many b's in that sentence. how could you! think of the b! banned for watching movies in the corner with the dunces. banned because health class clearly taught you nothing about peer pressure. banned for a whole host of reasons! link 1) two baby deer on left and right munching on a beetle in the middle.  2) using their own blood, two cavemen diary today's latest happenings on their designated cave diary wall.  3) i see it as... a pokemon world  an infj society  everyone becomes an optimist 49142 link link link link not all artists are artists because they draw. it's the idea that counts in forming something of your own... like a signature. welcome to the robot ranks, person who downed my self-esteem cuz i'm not an avid signature artist like herself. :proud: banned for taking all the room under my bed. ya gotta learn to share with the roaches. link banned for being too much of a thundering, grumbling kind of storm... yep. ahh... old high school music i haven't heard in ages.   link i failed a public speaking class a few years ago and i've sort of learned what i could do better were i to be in that position again. a big part of my failure was just overloading myself with too... i like this person's mentality. he's a confirmed intj by the way. link move to the denver area and start a new life for myself.'\""
      ]
     },
     "execution_count": 163,
     "metadata": {},
     "output_type": "execute_result"
    }
   ],
   "source": [
    "pre_processing_stage_1(data.iloc[0][1])"
   ]
  },
  {
   "cell_type": "code",
   "execution_count": 164,
   "metadata": {},
   "outputs": [],
   "source": [
    "\n"
   ]
  },
  {
   "cell_type": "code",
   "execution_count": null,
   "metadata": {},
   "outputs": [],
   "source": []
  }
 ],
 "metadata": {
  "kernelspec": {
   "display_name": "Python 3",
   "language": "python",
   "name": "python3"
  },
  "language_info": {
   "codemirror_mode": {
    "name": "ipython",
    "version": 3
   },
   "file_extension": ".py",
   "mimetype": "text/x-python",
   "name": "python",
   "nbconvert_exporter": "python",
   "pygments_lexer": "ipython3",
   "version": "3.8.3"
  }
 },
 "nbformat": 4,
 "nbformat_minor": 4
}
