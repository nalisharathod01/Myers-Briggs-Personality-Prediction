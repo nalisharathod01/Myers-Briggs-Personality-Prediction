{
 "cells": [
  {
   "cell_type": "code",
   "execution_count": 16,
   "id": "polyphonic-annotation",
   "metadata": {},
   "outputs": [],
   "source": [
    "import numpy as np\n",
    "import pandas as pd\n",
    "import re, string, unicodedata\n",
    "import nltk\n",
    "import inflect\n",
    "import gc\n",
    "from nltk import word_tokenize, sent_tokenize\n",
    "from nltk.corpus import stopwords\n",
    "from nltk.stem import LancasterStemmer, WordNetLemmatizer"
   ]
  },
  {
   "cell_type": "code",
   "execution_count": 17,
   "id": "automatic-sleeping",
   "metadata": {},
   "outputs": [
    {
     "data": {
      "text/html": [
       "<div>\n",
       "<style scoped>\n",
       "    .dataframe tbody tr th:only-of-type {\n",
       "        vertical-align: middle;\n",
       "    }\n",
       "\n",
       "    .dataframe tbody tr th {\n",
       "        vertical-align: top;\n",
       "    }\n",
       "\n",
       "    .dataframe thead th {\n",
       "        text-align: right;\n",
       "    }\n",
       "</style>\n",
       "<table border=\"1\" class=\"dataframe\">\n",
       "  <thead>\n",
       "    <tr style=\"text-align: right;\">\n",
       "      <th></th>\n",
       "      <th>type</th>\n",
       "      <th>posts</th>\n",
       "    </tr>\n",
       "  </thead>\n",
       "  <tbody>\n",
       "    <tr>\n",
       "      <th>0</th>\n",
       "      <td>INFJ</td>\n",
       "      <td>'http://www.youtube.com/watch?v=qsXHcwe3krw|||...</td>\n",
       "    </tr>\n",
       "    <tr>\n",
       "      <th>1</th>\n",
       "      <td>ENTP</td>\n",
       "      <td>'I'm finding the lack of me in these posts ver...</td>\n",
       "    </tr>\n",
       "    <tr>\n",
       "      <th>2</th>\n",
       "      <td>INTP</td>\n",
       "      <td>'Good one  _____   https://www.youtube.com/wat...</td>\n",
       "    </tr>\n",
       "    <tr>\n",
       "      <th>3</th>\n",
       "      <td>INTJ</td>\n",
       "      <td>'Dear INTP,   I enjoyed our conversation the o...</td>\n",
       "    </tr>\n",
       "    <tr>\n",
       "      <th>4</th>\n",
       "      <td>ENTJ</td>\n",
       "      <td>'You're fired.|||That's another silly misconce...</td>\n",
       "    </tr>\n",
       "  </tbody>\n",
       "</table>\n",
       "</div>"
      ],
      "text/plain": [
       "   type                                              posts\n",
       "0  INFJ  'http://www.youtube.com/watch?v=qsXHcwe3krw|||...\n",
       "1  ENTP  'I'm finding the lack of me in these posts ver...\n",
       "2  INTP  'Good one  _____   https://www.youtube.com/wat...\n",
       "3  INTJ  'Dear INTP,   I enjoyed our conversation the o...\n",
       "4  ENTJ  'You're fired.|||That's another silly misconce..."
      ]
     },
     "execution_count": 17,
     "metadata": {},
     "output_type": "execute_result"
    }
   ],
   "source": [
    "df_data = pd.read_csv('mbti_1.csv')\n",
    "df_data.head()"
   ]
  },
  {
   "cell_type": "code",
   "execution_count": 18,
   "id": "descending-peter",
   "metadata": {},
   "outputs": [],
   "source": [
    "df_data.posts = df_data.posts.replace(r'[|||]', r' ', regex=True)\n",
    "df_types = pd.DataFrame(df_data.drop('posts', 1))"
   ]
  },
  {
   "cell_type": "code",
   "execution_count": 19,
   "id": "honest-grounds",
   "metadata": {},
   "outputs": [],
   "source": [
    "df_types['is_E'] = df_data['type'].apply(lambda x: 1 if x[0] == 'E' else 0)\n",
    "df_types['is_S'] = df_data['type'].apply(lambda x: 1 if x[1] == 'S' else 0)\n",
    "df_types['is_T'] = df_data['type'].apply(lambda x: 1 if x[2] == 'T' else 0)\n",
    "df_types['is_J'] = df_data['type'].apply(lambda x: 1 if x[3] == 'J' else 0)\n",
    "df_types.columns = ['type','is_E','is_S','is_T','is_J']"
   ]
  },
  {
   "cell_type": "code",
   "execution_count": 20,
   "id": "dominant-encyclopedia",
   "metadata": {},
   "outputs": [
    {
     "data": {
      "text/html": [
       "<div>\n",
       "<style scoped>\n",
       "    .dataframe tbody tr th:only-of-type {\n",
       "        vertical-align: middle;\n",
       "    }\n",
       "\n",
       "    .dataframe tbody tr th {\n",
       "        vertical-align: top;\n",
       "    }\n",
       "\n",
       "    .dataframe thead th {\n",
       "        text-align: right;\n",
       "    }\n",
       "</style>\n",
       "<table border=\"1\" class=\"dataframe\">\n",
       "  <thead>\n",
       "    <tr style=\"text-align: right;\">\n",
       "      <th></th>\n",
       "      <th>posts</th>\n",
       "    </tr>\n",
       "  </thead>\n",
       "  <tbody>\n",
       "    <tr>\n",
       "      <th>0</th>\n",
       "      <td>enfpandintjmomentssportscenternottoptenplayspr...</td>\n",
       "    </tr>\n",
       "    <tr>\n",
       "      <th>1</th>\n",
       "      <td>imfindingthelackofmeinthesepostsveryalarmingse...</td>\n",
       "    </tr>\n",
       "    <tr>\n",
       "      <th>2</th>\n",
       "      <td>goodoneofcoursetowhichisayiknowthatsmyblessing...</td>\n",
       "    </tr>\n",
       "    <tr>\n",
       "      <th>3</th>\n",
       "      <td>dearintpienjoyedourconversationtheotherdayesot...</td>\n",
       "    </tr>\n",
       "    <tr>\n",
       "      <th>4</th>\n",
       "      <td>yourefiredthatsanothersillymisconceptionthatap...</td>\n",
       "    </tr>\n",
       "    <tr>\n",
       "      <th>...</th>\n",
       "      <td>...</td>\n",
       "    </tr>\n",
       "    <tr>\n",
       "      <th>8670</th>\n",
       "      <td>ixfpjustbecauseialwaysthinkofcatsasfidomsforso...</td>\n",
       "    </tr>\n",
       "    <tr>\n",
       "      <th>8671</th>\n",
       "      <td>soifthisthreadalreadyexistssomeplaceelsewhichi...</td>\n",
       "    </tr>\n",
       "    <tr>\n",
       "      <th>8672</th>\n",
       "      <td>somanyquestionswhenidothesethingsiwouldtakethe...</td>\n",
       "    </tr>\n",
       "    <tr>\n",
       "      <th>8673</th>\n",
       "      <td>iamveryconflictedrightnowwhenitcomestowantingc...</td>\n",
       "    </tr>\n",
       "    <tr>\n",
       "      <th>8674</th>\n",
       "      <td>ithasbeentoolongsinceihavebeenonpersonalitycaf...</td>\n",
       "    </tr>\n",
       "  </tbody>\n",
       "</table>\n",
       "<p>8675 rows × 1 columns</p>\n",
       "</div>"
      ],
      "text/plain": [
       "                                                  posts\n",
       "0     enfpandintjmomentssportscenternottoptenplayspr...\n",
       "1     imfindingthelackofmeinthesepostsveryalarmingse...\n",
       "2     goodoneofcoursetowhichisayiknowthatsmyblessing...\n",
       "3     dearintpienjoyedourconversationtheotherdayesot...\n",
       "4     yourefiredthatsanothersillymisconceptionthatap...\n",
       "...                                                 ...\n",
       "8670  ixfpjustbecauseialwaysthinkofcatsasfidomsforso...\n",
       "8671  soifthisthreadalreadyexistssomeplaceelsewhichi...\n",
       "8672  somanyquestionswhenidothesethingsiwouldtakethe...\n",
       "8673  iamveryconflictedrightnowwhenitcomestowantingc...\n",
       "8674  ithasbeentoolongsinceihavebeenonpersonalitycaf...\n",
       "\n",
       "[8675 rows x 1 columns]"
      ]
     },
     "execution_count": 20,
     "metadata": {},
     "output_type": "execute_result"
    }
   ],
   "source": [
    "#Cleaning the data Round 1\n",
    "def clean_text_round1(text):\n",
    "    '''Make text lowercase, remove punctuation, remove words containing numbers, remove URL, remove @, '''\n",
    "    text = text.lower()\n",
    "    text = re.sub('[%s]' % re.escape(string.punctuation), '', text)\n",
    "    text = re.sub('[^a-zA-Z\\s]', '', text)\n",
    "    text = re.sub('\\w*\\d\\w*', '', text)\n",
    "    text = re.sub(r\"http\\S+\", \"\", text)\n",
    "    text = re.sub(r'@\\w+', '', text)\n",
    "    text = re.sub(\"\\s+\", '', text)\n",
    "    text = text.lstrip()\n",
    "    text = text.rstrip()\n",
    "    return text\n",
    "\n",
    "round1 = lambda x: clean_text_round1(x)\n",
    "\n",
    "data_posts_clean = pd.DataFrame(df_data.posts.apply(round1))\n",
    "data_posts_clean"
   ]
  },
  {
   "cell_type": "code",
   "execution_count": 21,
   "id": "needed-bosnia",
   "metadata": {},
   "outputs": [],
   "source": [
    "# Tokenization - this is taken from SpaCy\n",
    "\n",
    "re_tok = re.compile(f'([{string.punctuation}“”¨«»®´·º½¾¿¡§£₤‘’])')\n",
    "stemmer = LancasterStemmer()\n",
    "\n",
    "def tokenize(s): \n",
    "    tokens = re_tok.sub(r' \\1 ', s).split()\n",
    "    return stemmer.stemWords(tokens)"
   ]
  },
  {
   "cell_type": "code",
   "execution_count": 22,
   "id": "indoor-nepal",
   "metadata": {},
   "outputs": [],
   "source": [
    "#Remove stopword and also added the MBTI types to it\n",
    "stop = set(stopwords.words('english'))\n",
    "stop.update(['INFP','INFJ','INTP','INTJ','ENTP','ENFP','ISTP','ISFP','ENTJ','ISTJ','ENFJ','ISFJ','ESTP','ESFP','ESFJ','ESTJ'])\n",
    "\n",
    "def remove_stopwords(row):\n",
    "    return [t for t in row if t not in stop]"
   ]
  },
  {
   "cell_type": "code",
   "execution_count": 23,
   "id": "disturbed-thomson",
   "metadata": {},
   "outputs": [
    {
     "name": "stderr",
     "output_type": "stream",
     "text": [
      "1999996it [01:55, 17245.20it/s]"
     ]
    },
    {
     "name": "stdout",
     "output_type": "stream",
     "text": [
      "Found 1999996 word vectors.\n"
     ]
    },
    {
     "name": "stderr",
     "output_type": "stream",
     "text": [
      "\n"
     ]
    }
   ],
   "source": [
    "\n",
    "# load the FastText vectors in a dictionary:\n",
    "from tqdm import tqdm\n",
    "\n",
    "embeddings_index_FastText = {}\n",
    "f = open('crawl-300d-2M.vec', encoding='utf-8')\n",
    "for line in tqdm(f):\n",
    "    values = line.split()\n",
    "    word = values[0]\n",
    "    try:\n",
    "        coefs = np.asarray(values[1:], dtype='float32')\n",
    "    except:\n",
    "        continue\n",
    "    embeddings_index_FastText[word] = coefs\n",
    "f.close()\n",
    "\n",
    "print('Found %s word vectors.' % len(embeddings_index_FastText))"
   ]
  },
  {
   "cell_type": "code",
   "execution_count": 24,
   "id": "billion-average",
   "metadata": {},
   "outputs": [],
   "source": [
    "# Function to create a normalized vector for the whole sentence\n",
    "def sent2vec(s, embeddings_index):\n",
    "    words = str(s).lower()\n",
    "    words = tokenize(words)\n",
    "    words = [w for w in words if w.isalpha()]\n",
    "    M = []\n",
    "    for w in words:\n",
    "        try:\n",
    "            M.append(embeddings_index[w])\n",
    "        except:\n",
    "            continue\n",
    "    M = np.array(M)\n",
    "    v = M.sum(axis=0)\n",
    "    if type(v) != np.ndarray:\n",
    "        return np.zeros(300)\n",
    "    return v / np.sqrt((v ** 2).sum())"
   ]
  },
  {
   "cell_type": "code",
   "execution_count": null,
   "id": "contrary-flood",
   "metadata": {},
   "outputs": [],
   "source": []
  }
 ],
 "metadata": {
  "kernelspec": {
   "display_name": "Python 3",
   "language": "python",
   "name": "python3"
  },
  "language_info": {
   "codemirror_mode": {
    "name": "ipython",
    "version": 3
   },
   "file_extension": ".py",
   "mimetype": "text/x-python",
   "name": "python",
   "nbconvert_exporter": "python",
   "pygments_lexer": "ipython3",
   "version": "3.7.10"
  }
 },
 "nbformat": 4,
 "nbformat_minor": 5
}
