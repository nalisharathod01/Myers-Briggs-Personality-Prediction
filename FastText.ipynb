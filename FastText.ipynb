{
 "cells": [
  {
   "cell_type": "code",
   "execution_count": 97,
   "id": "answering-resource",
   "metadata": {},
   "outputs": [],
   "source": [
    "import numpy as np\n",
    "import pandas as pd\n",
    "import matplotlib.pyplot as plt   \n",
    "import re, string, unicodedata\n",
    "from sklearn.model_selection import train_test_split\n",
    "import nltk\n",
    "import inflect\n",
    "import gc\n",
    "from nltk import word_tokenize, sent_tokenize\n",
    "from nltk.corpus import stopwords\n",
    "from nltk.stem import LancasterStemmer, WordNetLemmatizer"
   ]
  },
  {
   "cell_type": "code",
   "execution_count": 98,
   "id": "close-specialist",
   "metadata": {},
   "outputs": [
    {
     "data": {
      "text/html": [
       "<div>\n",
       "<style scoped>\n",
       "    .dataframe tbody tr th:only-of-type {\n",
       "        vertical-align: middle;\n",
       "    }\n",
       "\n",
       "    .dataframe tbody tr th {\n",
       "        vertical-align: top;\n",
       "    }\n",
       "\n",
       "    .dataframe thead th {\n",
       "        text-align: right;\n",
       "    }\n",
       "</style>\n",
       "<table border=\"1\" class=\"dataframe\">\n",
       "  <thead>\n",
       "    <tr style=\"text-align: right;\">\n",
       "      <th></th>\n",
       "      <th>type</th>\n",
       "      <th>posts</th>\n",
       "    </tr>\n",
       "  </thead>\n",
       "  <tbody>\n",
       "    <tr>\n",
       "      <th>0</th>\n",
       "      <td>INFJ</td>\n",
       "      <td>'http://www.youtube.com/watch?v=qsXHcwe3krw|||...</td>\n",
       "    </tr>\n",
       "    <tr>\n",
       "      <th>1</th>\n",
       "      <td>ENTP</td>\n",
       "      <td>'I'm finding the lack of me in these posts ver...</td>\n",
       "    </tr>\n",
       "    <tr>\n",
       "      <th>2</th>\n",
       "      <td>INTP</td>\n",
       "      <td>'Good one  _____   https://www.youtube.com/wat...</td>\n",
       "    </tr>\n",
       "    <tr>\n",
       "      <th>3</th>\n",
       "      <td>INTJ</td>\n",
       "      <td>'Dear INTP,   I enjoyed our conversation the o...</td>\n",
       "    </tr>\n",
       "    <tr>\n",
       "      <th>4</th>\n",
       "      <td>ENTJ</td>\n",
       "      <td>'You're fired.|||That's another silly misconce...</td>\n",
       "    </tr>\n",
       "  </tbody>\n",
       "</table>\n",
       "</div>"
      ],
      "text/plain": [
       "   type                                              posts\n",
       "0  INFJ  'http://www.youtube.com/watch?v=qsXHcwe3krw|||...\n",
       "1  ENTP  'I'm finding the lack of me in these posts ver...\n",
       "2  INTP  'Good one  _____   https://www.youtube.com/wat...\n",
       "3  INTJ  'Dear INTP,   I enjoyed our conversation the o...\n",
       "4  ENTJ  'You're fired.|||That's another silly misconce..."
      ]
     },
     "execution_count": 98,
     "metadata": {},
     "output_type": "execute_result"
    }
   ],
   "source": [
    "df_data = pd.read_csv('mbti_1.csv')\n",
    "df_data.head()"
   ]
  },
  {
   "cell_type": "code",
   "execution_count": 99,
   "id": "proved-watson",
   "metadata": {},
   "outputs": [],
   "source": [
    "# Function To check Classes in data \n",
    "def count_class(DataFrame,count = False ,plot = False):\n",
    "    # considering 1st Column is for classes \n",
    "    Classes = list(df_data[df_data.columns[0]].unique())\n",
    "    #print(Classes)\n",
    "    if plot or count:\n",
    "        count_type = df_data.groupby('type').count()\n",
    "    if count : print(count_type)\n",
    "    if plot:\n",
    "        fig = plt.figure()\n",
    "        ax = fig.add_axes([0,0,2,2])\n",
    "        count_type_temp = count_type.sort_values('posts')\n",
    "        ax.bar(count_type_temp.index,count_type_temp['posts'])\n",
    "        plt.show()\n",
    "    return Classes"
   ]
  },
  {
   "cell_type": "code",
   "execution_count": 100,
   "id": "together-astronomy",
   "metadata": {},
   "outputs": [
    {
     "name": "stdout",
     "output_type": "stream",
     "text": [
      "      posts\n",
      "type       \n",
      "ENFJ    190\n",
      "ENFP    675\n",
      "ENTJ    231\n",
      "ENTP    685\n",
      "ESFJ     42\n",
      "ESFP     48\n",
      "ESTJ     39\n",
      "ESTP     89\n",
      "INFJ   1470\n",
      "INFP   1832\n",
      "INTJ   1091\n",
      "INTP   1304\n",
      "ISFJ    166\n",
      "ISFP    271\n",
      "ISTJ    205\n",
      "ISTP    337\n"
     ]
    },
    {
     "data": {
      "image/png": "[encoded data removed]",
      "text/plain": [
       "<Figure size 432x288 with 1 Axes>"
      ]
     },
     "metadata": {
      "needs_background": "light"
     },
     "output_type": "display_data"
    }
   ],
   "source": [
    "classes = count_class(df_data,True,True)"
   ]
  },
  {
   "cell_type": "code",
   "execution_count": 112,
   "id": "appropriate-folder",
   "metadata": {},
   "outputs": [],
   "source": [
    "df_data.posts = df_data.posts.replace(r'[|||]', r' ', regex=True)\n",
    "df_types = pd.DataFrame(df_data.drop('posts', 1))"
   ]
  },
  {
   "cell_type": "code",
   "execution_count": 84,
   "id": "changed-berry",
   "metadata": {},
   "outputs": [
    {
     "data": {
      "text/html": [
       "<div>\n",
       "<style scoped>\n",
       "    .dataframe tbody tr th:only-of-type {\n",
       "        vertical-align: middle;\n",
       "    }\n",
       "\n",
       "    .dataframe tbody tr th {\n",
       "        vertical-align: top;\n",
       "    }\n",
       "\n",
       "    .dataframe thead th {\n",
       "        text-align: right;\n",
       "    }\n",
       "</style>\n",
       "<table border=\"1\" class=\"dataframe\">\n",
       "  <thead>\n",
       "    <tr style=\"text-align: right;\">\n",
       "      <th></th>\n",
       "      <th>type</th>\n",
       "      <th>is_E</th>\n",
       "      <th>is_S</th>\n",
       "      <th>is_T</th>\n",
       "      <th>is_J</th>\n",
       "      <th>posts</th>\n",
       "    </tr>\n",
       "  </thead>\n",
       "  <tbody>\n",
       "    <tr>\n",
       "      <th>0</th>\n",
       "      <td>INFJ</td>\n",
       "      <td>0</td>\n",
       "      <td>0</td>\n",
       "      <td>0</td>\n",
       "      <td>1</td>\n",
       "      <td>'http://www.youtube.com/watch?v=qsXHcwe3krw   ...</td>\n",
       "    </tr>\n",
       "    <tr>\n",
       "      <th>1</th>\n",
       "      <td>ENTP</td>\n",
       "      <td>1</td>\n",
       "      <td>0</td>\n",
       "      <td>1</td>\n",
       "      <td>0</td>\n",
       "      <td>'I'm finding the lack of me in these posts ver...</td>\n",
       "    </tr>\n",
       "    <tr>\n",
       "      <th>2</th>\n",
       "      <td>INTP</td>\n",
       "      <td>0</td>\n",
       "      <td>0</td>\n",
       "      <td>1</td>\n",
       "      <td>0</td>\n",
       "      <td>'Good one  _____   https://www.youtube.com/wat...</td>\n",
       "    </tr>\n",
       "    <tr>\n",
       "      <th>3</th>\n",
       "      <td>INTJ</td>\n",
       "      <td>0</td>\n",
       "      <td>0</td>\n",
       "      <td>1</td>\n",
       "      <td>1</td>\n",
       "      <td>'Dear INTP,   I enjoyed our conversation the o...</td>\n",
       "    </tr>\n",
       "    <tr>\n",
       "      <th>4</th>\n",
       "      <td>ENTJ</td>\n",
       "      <td>1</td>\n",
       "      <td>0</td>\n",
       "      <td>1</td>\n",
       "      <td>1</td>\n",
       "      <td>'You're fired.   That's another silly misconce...</td>\n",
       "    </tr>\n",
       "  </tbody>\n",
       "</table>\n",
       "</div>"
      ],
      "text/plain": [
       "   type  is_E  is_S  is_T  is_J  \\\n",
       "0  INFJ     0     0     0     1   \n",
       "1  ENTP     1     0     1     0   \n",
       "2  INTP     0     0     1     0   \n",
       "3  INTJ     0     0     1     1   \n",
       "4  ENTJ     1     0     1     1   \n",
       "\n",
       "                                               posts  \n",
       "0  'http://www.youtube.com/watch?v=qsXHcwe3krw   ...  \n",
       "1  'I'm finding the lack of me in these posts ver...  \n",
       "2  'Good one  _____   https://www.youtube.com/wat...  \n",
       "3  'Dear INTP,   I enjoyed our conversation the o...  \n",
       "4  'You're fired.   That's another silly misconce...  "
      ]
     },
     "execution_count": 84,
     "metadata": {},
     "output_type": "execute_result"
    }
   ],
   "source": [
    "df_types['is_E'] = df_data['type'].apply(lambda x: 1 if x[0] == 'E' else 0)\n",
    "df_types['is_S'] = df_data['type'].apply(lambda x: 1 if x[1] == 'S' else 0)\n",
    "df_types['is_T'] = df_data['type'].apply(lambda x: 1 if x[2] == 'T' else 0)\n",
    "df_types['is_J'] = df_data['type'].apply(lambda x: 1 if x[3] == 'J' else 0)\n",
    "df_types['posts'] = df_data['posts']\n",
    "df_types.columns = ['type','is_E','is_S','is_T','is_J','posts']\n",
    "\n",
    "df_types.head()"
   ]
  },
  {
   "cell_type": "code",
   "execution_count": 85,
   "id": "outer-birmingham",
   "metadata": {},
   "outputs": [],
   "source": [
    "def up_down_sampling(data,count):\n",
    "    types = list(set(data.type))\n",
    "    defined = False\n",
    "    for tp in types :\n",
    "        print(tp)\n",
    "        if not defined:\n",
    "            defined = True\n",
    "            tp_class_count = data.type.value_counts()[tp]\n",
    "            if tp_class_count > count :\n",
    "                df = data[data['type'] == tp].sample(count)\n",
    "            else:\n",
    "                df = data[data['type'] == tp].sample(count,replace = True)\n",
    "        else:\n",
    "            tp_class_count = data.type.value_counts()[tp]\n",
    "            if tp_class_count > count :\n",
    "                df = pd.concat([df, data[data['type'] == tp].sample(count)], axis=0)\n",
    "            else:\n",
    "                df = pd.concat([df, data[data['type'] == tp].sample(count,replace = True)], axis=0)\n",
    "    return df"
   ]
  },
  {
   "cell_type": "code",
   "execution_count": 86,
   "id": "gross-proxy",
   "metadata": {},
   "outputs": [
    {
     "name": "stdout",
     "output_type": "stream",
     "text": [
      "INTJ\n",
      "ESFP\n",
      "ISFJ\n",
      "ENTJ\n",
      "INFP\n",
      "INFJ\n",
      "ESTP\n",
      "INTP\n",
      "ISTJ\n",
      "ENTP\n",
      "ENFJ\n",
      "ESFJ\n",
      "ENFP\n",
      "ISFP\n",
      "ESTJ\n",
      "ISTP\n"
     ]
    }
   ],
   "source": [
    "# Using Up_down Sampling for preparing trainable data   \n",
    "df = up_down_sampling(df_types,600)"
   ]
  },
  {
   "cell_type": "code",
   "execution_count": 87,
   "id": "heated-tumor",
   "metadata": {},
   "outputs": [
    {
     "data": {
      "text/plain": [
       "INFJ    600\n",
       "ISTP    600\n",
       "ESFP    600\n",
       "ENFJ    600\n",
       "ENTP    600\n",
       "ENTJ    600\n",
       "ESTJ    600\n",
       "ESTP    600\n",
       "INFP    600\n",
       "ISFP    600\n",
       "ESFJ    600\n",
       "ISTJ    600\n",
       "INTP    600\n",
       "ISFJ    600\n",
       "INTJ    600\n",
       "ENFP    600\n",
       "Name: type, dtype: int64"
      ]
     },
     "execution_count": 87,
     "metadata": {},
     "output_type": "execute_result"
    }
   ],
   "source": [
    "# Checking Trainable data \n",
    "count_class = df.type.value_counts()\n",
    "count_class"
   ]
  },
  {
   "cell_type": "code",
   "execution_count": 88,
   "id": "metropolitan-genome",
   "metadata": {},
   "outputs": [],
   "source": [
    "# Function To check Classes in data \n",
    "def count_class(DataFrame,count = False ,plot = False):\n",
    "    # considering 1st Column is for classes \n",
    "    Classes = list(df[df.columns[0]].unique())\n",
    "    #print(Classes)\n",
    "    if plot or count:\n",
    "        count_type = df.groupby('type').count()\n",
    "    if count : print(count_type)\n",
    "    if plot:\n",
    "        fig = plt.figure()\n",
    "        ax = fig.add_axes([0,0,2,2])\n",
    "        count_type_temp = count_type.sort_values('posts')\n",
    "        ax.bar(count_type_temp.index,count_type_temp['posts'])\n",
    "        plt.show()\n",
    "    return Classes"
   ]
  },
  {
   "cell_type": "code",
   "execution_count": 89,
   "id": "rough-variety",
   "metadata": {},
   "outputs": [
    {
     "name": "stdout",
     "output_type": "stream",
     "text": [
      "      is_E  is_S  is_T  is_J  posts\n",
      "type                               \n",
      "ENFJ   600   600   600   600    600\n",
      "ENFP   600   600   600   600    600\n",
      "ENTJ   600   600   600   600    600\n",
      "ENTP   600   600   600   600    600\n",
      "ESFJ   600   600   600   600    600\n",
      "ESFP   600   600   600   600    600\n",
      "ESTJ   600   600   600   600    600\n",
      "ESTP   600   600   600   600    600\n",
      "INFJ   600   600   600   600    600\n",
      "INFP   600   600   600   600    600\n",
      "INTJ   600   600   600   600    600\n",
      "INTP   600   600   600   600    600\n",
      "ISFJ   600   600   600   600    600\n",
      "ISFP   600   600   600   600    600\n",
      "ISTJ   600   600   600   600    600\n",
      "ISTP   600   600   600   600    600\n"
     ]
    },
    {
     "data": {
      "image/png": "[encoded data removed]",
      "text/plain": [
       "<Figure size 432x288 with 1 Axes>"
      ]
     },
     "metadata": {
      "needs_background": "light"
     },
     "output_type": "display_data"
    }
   ],
   "source": [
    "classes = count_class(df,True,True)"
   ]
  },
  {
   "cell_type": "code",
   "execution_count": 90,
   "id": "fossil-wholesale",
   "metadata": {},
   "outputs": [
    {
     "data": {
      "text/html": [
       "<div>\n",
       "<style scoped>\n",
       "    .dataframe tbody tr th:only-of-type {\n",
       "        vertical-align: middle;\n",
       "    }\n",
       "\n",
       "    .dataframe tbody tr th {\n",
       "        vertical-align: top;\n",
       "    }\n",
       "\n",
       "    .dataframe thead th {\n",
       "        text-align: right;\n",
       "    }\n",
       "</style>\n",
       "<table border=\"1\" class=\"dataframe\">\n",
       "  <thead>\n",
       "    <tr style=\"text-align: right;\">\n",
       "      <th></th>\n",
       "      <th>type</th>\n",
       "      <th>is_E</th>\n",
       "      <th>is_S</th>\n",
       "      <th>is_T</th>\n",
       "      <th>is_J</th>\n",
       "      <th>posts</th>\n",
       "    </tr>\n",
       "  </thead>\n",
       "  <tbody>\n",
       "    <tr>\n",
       "      <th>1584</th>\n",
       "      <td>INTP</td>\n",
       "      <td>0</td>\n",
       "      <td>0</td>\n",
       "      <td>1</td>\n",
       "      <td>0</td>\n",
       "      <td>'INTP not getting good grades? WHAT IS THIS.  ...</td>\n",
       "    </tr>\n",
       "    <tr>\n",
       "      <th>2699</th>\n",
       "      <td>ENFJ</td>\n",
       "      <td>1</td>\n",
       "      <td>0</td>\n",
       "      <td>0</td>\n",
       "      <td>1</td>\n",
       "      <td>'https://www.youtube.com/watch?v=I6PYn-0XrgQ  ...</td>\n",
       "    </tr>\n",
       "    <tr>\n",
       "      <th>4951</th>\n",
       "      <td>ESTP</td>\n",
       "      <td>1</td>\n",
       "      <td>1</td>\n",
       "      <td>1</td>\n",
       "      <td>0</td>\n",
       "      <td>'I cannot even begin to describe how screwed u...</td>\n",
       "    </tr>\n",
       "    <tr>\n",
       "      <th>4708</th>\n",
       "      <td>ENFP</td>\n",
       "      <td>1</td>\n",
       "      <td>0</td>\n",
       "      <td>0</td>\n",
       "      <td>0</td>\n",
       "      <td>'Hmmm... I don't really like the compatibility...</td>\n",
       "    </tr>\n",
       "    <tr>\n",
       "      <th>409</th>\n",
       "      <td>ENFP</td>\n",
       "      <td>1</td>\n",
       "      <td>0</td>\n",
       "      <td>0</td>\n",
       "      <td>0</td>\n",
       "      <td>'Can I just say I'm so glad and thankful that ...</td>\n",
       "    </tr>\n",
       "    <tr>\n",
       "      <th>...</th>\n",
       "      <td>...</td>\n",
       "      <td>...</td>\n",
       "      <td>...</td>\n",
       "      <td>...</td>\n",
       "      <td>...</td>\n",
       "      <td>...</td>\n",
       "    </tr>\n",
       "    <tr>\n",
       "      <th>5427</th>\n",
       "      <td>INFP</td>\n",
       "      <td>0</td>\n",
       "      <td>0</td>\n",
       "      <td>0</td>\n",
       "      <td>0</td>\n",
       "      <td>'I took myself to the movies today. Saw the mo...</td>\n",
       "    </tr>\n",
       "    <tr>\n",
       "      <th>3691</th>\n",
       "      <td>INFP</td>\n",
       "      <td>0</td>\n",
       "      <td>0</td>\n",
       "      <td>0</td>\n",
       "      <td>0</td>\n",
       "      <td>'https://www.youtube.com/watch?v=Qok9Ialei4c  ...</td>\n",
       "    </tr>\n",
       "    <tr>\n",
       "      <th>8623</th>\n",
       "      <td>INFP</td>\n",
       "      <td>0</td>\n",
       "      <td>0</td>\n",
       "      <td>0</td>\n",
       "      <td>0</td>\n",
       "      <td>'So do you INFP peeps get jealous often? And b...</td>\n",
       "    </tr>\n",
       "    <tr>\n",
       "      <th>5538</th>\n",
       "      <td>ENFJ</td>\n",
       "      <td>1</td>\n",
       "      <td>0</td>\n",
       "      <td>0</td>\n",
       "      <td>1</td>\n",
       "      <td>'Tried the first strategy that is mentioned ab...</td>\n",
       "    </tr>\n",
       "    <tr>\n",
       "      <th>1112</th>\n",
       "      <td>ESTJ</td>\n",
       "      <td>1</td>\n",
       "      <td>1</td>\n",
       "      <td>1</td>\n",
       "      <td>1</td>\n",
       "      <td>'To answer your question, yes. People are capa...</td>\n",
       "    </tr>\n",
       "  </tbody>\n",
       "</table>\n",
       "<p>9600 rows × 6 columns</p>\n",
       "</div>"
      ],
      "text/plain": [
       "      type  is_E  is_S  is_T  is_J  \\\n",
       "1584  INTP     0     0     1     0   \n",
       "2699  ENFJ     1     0     0     1   \n",
       "4951  ESTP     1     1     1     0   \n",
       "4708  ENFP     1     0     0     0   \n",
       "409   ENFP     1     0     0     0   \n",
       "...    ...   ...   ...   ...   ...   \n",
       "5427  INFP     0     0     0     0   \n",
       "3691  INFP     0     0     0     0   \n",
       "8623  INFP     0     0     0     0   \n",
       "5538  ENFJ     1     0     0     1   \n",
       "1112  ESTJ     1     1     1     1   \n",
       "\n",
       "                                                  posts  \n",
       "1584  'INTP not getting good grades? WHAT IS THIS.  ...  \n",
       "2699  'https://www.youtube.com/watch?v=I6PYn-0XrgQ  ...  \n",
       "4951  'I cannot even begin to describe how screwed u...  \n",
       "4708  'Hmmm... I don't really like the compatibility...  \n",
       "409   'Can I just say I'm so glad and thankful that ...  \n",
       "...                                                 ...  \n",
       "5427  'I took myself to the movies today. Saw the mo...  \n",
       "3691  'https://www.youtube.com/watch?v=Qok9Ialei4c  ...  \n",
       "8623  'So do you INFP peeps get jealous often? And b...  \n",
       "5538  'Tried the first strategy that is mentioned ab...  \n",
       "1112  'To answer your question, yes. People are capa...  \n",
       "\n",
       "[9600 rows x 6 columns]"
      ]
     },
     "execution_count": 90,
     "metadata": {},
     "output_type": "execute_result"
    }
   ],
   "source": [
    "#Suffling DataFrame \n",
    "df = df.sample(frac = 1)\n",
    "df"
   ]
  },
  {
   "cell_type": "code",
   "execution_count": 91,
   "id": "anticipated-saturn",
   "metadata": {},
   "outputs": [
    {
     "data": {
      "text/html": [
       "<div>\n",
       "<style scoped>\n",
       "    .dataframe tbody tr th:only-of-type {\n",
       "        vertical-align: middle;\n",
       "    }\n",
       "\n",
       "    .dataframe tbody tr th {\n",
       "        vertical-align: top;\n",
       "    }\n",
       "\n",
       "    .dataframe thead th {\n",
       "        text-align: right;\n",
       "    }\n",
       "</style>\n",
       "<table border=\"1\" class=\"dataframe\">\n",
       "  <thead>\n",
       "    <tr style=\"text-align: right;\">\n",
       "      <th></th>\n",
       "      <th>posts</th>\n",
       "    </tr>\n",
       "  </thead>\n",
       "  <tbody>\n",
       "    <tr>\n",
       "      <th>0</th>\n",
       "      <td>enfpandintjmomentssportscenternottoptenplayspr...</td>\n",
       "    </tr>\n",
       "    <tr>\n",
       "      <th>1</th>\n",
       "      <td>imfindingthelackofmeinthesepostsveryalarmingse...</td>\n",
       "    </tr>\n",
       "    <tr>\n",
       "      <th>2</th>\n",
       "      <td>goodoneofcoursetowhichisayiknowthatsmyblessing...</td>\n",
       "    </tr>\n",
       "    <tr>\n",
       "      <th>3</th>\n",
       "      <td>dearintpienjoyedourconversationtheotherdayesot...</td>\n",
       "    </tr>\n",
       "    <tr>\n",
       "      <th>4</th>\n",
       "      <td>yourefiredthatsanothersillymisconceptionthatap...</td>\n",
       "    </tr>\n",
       "    <tr>\n",
       "      <th>...</th>\n",
       "      <td>...</td>\n",
       "    </tr>\n",
       "    <tr>\n",
       "      <th>8670</th>\n",
       "      <td>ixfpjustbecauseialwaysthinkofcatsasfidomsforso...</td>\n",
       "    </tr>\n",
       "    <tr>\n",
       "      <th>8671</th>\n",
       "      <td>soifthisthreadalreadyexistssomeplaceelsewhichi...</td>\n",
       "    </tr>\n",
       "    <tr>\n",
       "      <th>8672</th>\n",
       "      <td>somanyquestionswhenidothesethingsiwouldtakethe...</td>\n",
       "    </tr>\n",
       "    <tr>\n",
       "      <th>8673</th>\n",
       "      <td>iamveryconflictedrightnowwhenitcomestowantingc...</td>\n",
       "    </tr>\n",
       "    <tr>\n",
       "      <th>8674</th>\n",
       "      <td>ithasbeentoolongsinceihavebeenonpersonalitycaf...</td>\n",
       "    </tr>\n",
       "  </tbody>\n",
       "</table>\n",
       "<p>8675 rows × 1 columns</p>\n",
       "</div>"
      ],
      "text/plain": [
       "                                                  posts\n",
       "0     enfpandintjmomentssportscenternottoptenplayspr...\n",
       "1     imfindingthelackofmeinthesepostsveryalarmingse...\n",
       "2     goodoneofcoursetowhichisayiknowthatsmyblessing...\n",
       "3     dearintpienjoyedourconversationtheotherdayesot...\n",
       "4     yourefiredthatsanothersillymisconceptionthatap...\n",
       "...                                                 ...\n",
       "8670  ixfpjustbecauseialwaysthinkofcatsasfidomsforso...\n",
       "8671  soifthisthreadalreadyexistssomeplaceelsewhichi...\n",
       "8672  somanyquestionswhenidothesethingsiwouldtakethe...\n",
       "8673  iamveryconflictedrightnowwhenitcomestowantingc...\n",
       "8674  ithasbeentoolongsinceihavebeenonpersonalitycaf...\n",
       "\n",
       "[8675 rows x 1 columns]"
      ]
     },
     "execution_count": 91,
     "metadata": {},
     "output_type": "execute_result"
    }
   ],
   "source": [
    "#Cleaning the data Round 1\n",
    "def clean_text_round1(text):\n",
    "    '''Make text lowercase, remove punctuation, remove words containing numbers, remove URL, remove @, '''\n",
    "    text = text.lower()\n",
    "    text = re.sub('[%s]' % re.escape(string.punctuation), '', text)\n",
    "    text = re.sub('[^a-zA-Z\\s]', '', text)\n",
    "    text = re.sub('\\w*\\d\\w*', '', text)\n",
    "    text = re.sub(r\"http\\S+\", \"\", text)\n",
    "    text = re.sub(r'@\\w+', '', text)\n",
    "    text = re.sub(\"\\s+\", '', text)\n",
    "    text = text.lstrip()\n",
    "    text = text.rstrip()\n",
    "    return text\n",
    "\n",
    "round1 = lambda x: clean_text_round1(x)\n",
    "\n",
    "data_posts_clean = pd.DataFrame(df_data.posts.apply(round1))\n",
    "data_posts_clean\n"
   ]
  },
  {
   "cell_type": "code",
   "execution_count": 92,
   "id": "after-thirty",
   "metadata": {},
   "outputs": [],
   "source": [
    "# Tokenization - this is taken from SpaCy\n",
    "\n",
    "re_tok = re.compile(f'([{string.punctuation}“”¨«»®´·º½¾¿¡§£₤‘’])')\n",
    "stemmer = LancasterStemmer()\n",
    "\n",
    "def tokenize(s): \n",
    "    tokens = re_tok.sub(r' \\1 ', s).split()\n",
    "    return stemmer.stemWords(tokens)"
   ]
  },
  {
   "cell_type": "code",
   "execution_count": 93,
   "id": "automotive-excellence",
   "metadata": {},
   "outputs": [],
   "source": [
    "#Remove stopword and also added the MBTI types to it\n",
    "stop = set(stopwords.words('english'))\n",
    "stop.update(['INFP','INFJ','INTP','INTJ','ENTP','ENFP','ISTP','ISFP','ENTJ','ISTJ','ENFJ','ISFJ','ESTP','ESFP','ESFJ','ESTJ'])\n",
    "\n",
    "def remove_stopwords(row):\n",
    "    return [t for t in row if t not in stop]"
   ]
  },
  {
   "cell_type": "code",
   "execution_count": 94,
   "id": "equipped-introduction",
   "metadata": {},
   "outputs": [
    {
     "name": "stderr",
     "output_type": "stream",
     "text": [
      "1999996it [01:56, 17111.88it/s]"
     ]
    },
    {
     "name": "stdout",
     "output_type": "stream",
     "text": [
      "Found 1999996 word vectors.\n"
     ]
    },
    {
     "name": "stderr",
     "output_type": "stream",
     "text": [
      "\n"
     ]
    }
   ],
   "source": [
    "\n",
    "# load the FastText vectors in a dictionary:\n",
    "from tqdm import tqdm\n",
    "\n",
    "embeddings_index_FastText = {}\n",
    "f = open('crawl-300d-2M.vec', encoding='utf-8')\n",
    "for line in tqdm(f):\n",
    "    values = line.split()\n",
    "    word = values[0]\n",
    "    try:\n",
    "        coefs = np.asarray(values[1:], dtype='float32')\n",
    "    except:\n",
    "        continue\n",
    "    embeddings_index_FastText[word] = coefs\n",
    "f.close()\n",
    "\n",
    "print('Found %s word vectors.' % len(embeddings_index_FastText))"
   ]
  },
  {
   "cell_type": "code",
   "execution_count": 95,
   "id": "brilliant-footwear",
   "metadata": {},
   "outputs": [],
   "source": [
    "# Function to create a normalized vector for the whole sentence\n",
    "def sent2vec(s, embeddings_index):\n",
    "    words = str(s).lower()\n",
    "    words = tokenize(words)\n",
    "    words = [w for w in words if w.isalpha()]\n",
    "    M = []\n",
    "    for w in words:\n",
    "        try:\n",
    "            M.append(embeddings_index[w])\n",
    "        except:\n",
    "            continue\n",
    "    M = np.array(M)\n",
    "    v = M.sum(axis=0)\n",
    "    if type(v) != np.ndarray:\n",
    "        return np.zeros(300)\n",
    "    return v / np.sqrt((v ** 2).sum())"
   ]
  },
  {
   "cell_type": "code",
   "execution_count": 96,
   "id": "thrown-damage",
   "metadata": {},
   "outputs": [
    {
     "name": "stdout",
     "output_type": "stream",
     "text": [
      "(5760,) (5760,)\n",
      "(1920,) (1920,)\n",
      "(1920,) (1920,)\n"
     ]
    }
   ],
   "source": [
    "#Creating Train,Test and Validation Set\n",
    "df.head()\n",
    "X = df.type\n",
    "y = df.posts\n",
    "\n",
    "# create training and testing vars\n",
    "X_train, X_test, y_train, y_test = train_test_split(X, y, test_size=0.2, random_state=1)\n",
    "\n",
    "X_train, X_val, y_train, y_val = train_test_split(X_train, y_train, test_size=0.25, random_state=1) # 0.25 x 0.8 = 0.2\n",
    "print (X_train.shape, y_train.shape)\n",
    "print (X_test.shape, y_test.shape)\n",
    "print (X_val.shape, y_val.shape)"
   ]
  },
  {
   "cell_type": "code",
   "execution_count": null,
   "id": "tender-motor",
   "metadata": {},
   "outputs": [],
   "source": []
  }
 ],
 "metadata": {
  "kernelspec": {
   "display_name": "Python 3",
   "language": "python",
   "name": "python3"
  },
  "language_info": {
   "codemirror_mode": {
    "name": "ipython",
    "version": 3
   },
   "file_extension": ".py",
   "mimetype": "text/x-python",
   "name": "python",
   "nbconvert_exporter": "python",
   "pygments_lexer": "ipython3",
   "version": "3.7.10"
  }
 },
 "nbformat": 4,
 "nbformat_minor": 5
}
